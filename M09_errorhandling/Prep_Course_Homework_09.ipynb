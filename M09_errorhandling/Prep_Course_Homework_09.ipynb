{
 "cells": [
  {
   "attachments": {},
   "cell_type": "markdown",
   "metadata": {},
   "source": [
    "## Manejo de errores"
   ]
  },
  {
   "attachments": {},
   "cell_type": "markdown",
   "metadata": {},
   "source": [
    "1) Con la clase creada en el módulo 7, tener en cuenta diferentes casos en que el código pudiera arrojar error. Por ejemplo, en la creación del objeto recibimos una lista de números enteros pero ¿qué pasa si se envía otro tipo de dato?"
   ]
  },
  {
   "cell_type": "code",
   "execution_count": null,
   "metadata": {},
   "outputs": [],
   "source": [
    "import sys \n",
    "\n",
    "sys.path.append(r'/Users/macbookpro/Documents/Programacion /Python /Repositorio hub /Python-Prep/M09_errorhandling/fun07.py')\n",
    "\n",
    "import fun07 as f \n",
    "\n",
    "f1 = f.Funciones_7(1,2,3,4,5)"
   ]
  },
  {
   "attachments": {},
   "cell_type": "markdown",
   "metadata": {},
   "source": [
    "2) En la función que hace la conversión de grados, validar que los parámetros enviados sean los esperados, de no serlo, informar cuáles son los valores esperados."
   ]
  },
  {
   "cell_type": "code",
   "execution_count": null,
   "metadata": {},
   "outputs": [],
   "source": [
    "import fun07 as f \n",
    "import importlib\n",
    "\n",
    "importlib.reload(f)\n",
    "\n",
    "f1 = f.Funciones_7([1,2,3,4,5])\n",
    "\n",
    "#f1.convert_grados(1,2)\n",
    "\n",
    "f1.convert_grados('celsius','farenheit')"
   ]
  },
  {
   "attachments": {},
   "cell_type": "markdown",
   "metadata": {},
   "source": [
    "3) Importar el modulo \"unittest\" y crear los siguientes casos de pruebas sobre la clase utilizada en el punto 2<br>\n",
    "Creacion del objeto incorrecta<br>\n",
    "Creacion correcta del objeto<br>\n",
    "Metodo valor_modal()<br>\n",
    "\n",
    "Se puede usar \"raise ValueError()\" en la creación de la clase para verificar el error. Investigar sobre esta funcionalidad."
   ]
  },
  {
   "cell_type": "code",
   "execution_count": null,
   "metadata": {},
   "outputs": [],
   "source": [
    "import fun07 as f\n",
    "import unittest\n",
    "\n",
    "class Pruebas (unittest.TestCase):\n",
    "\n",
    "    def test_prueba_crear_objeto(self):\n",
    "        objeto = 'producto'\n",
    "        self.assertRaises(ValueError,f.Funciones_7,objeto)\n",
    "    def test_prueba_crear_objeto_correcta(self):\n",
    "        objeto = [1,2,3,4,5,2]\n",
    "        f1 = f.Funciones_7(objeto)\n",
    "        self.assertAlmostEqual(f1.lista, objeto)\n",
    "    def test_valor_primos(self):\n",
    "        lis = [1,2,3,4,1,6,7,8]\n",
    "        f1 = f.Funciones_7(lis)\n",
    "        mas_repetido , max_rep = f1.__cuenta_de_numeros_repetidos(False)\n",
    "        mas_repetido = [mas_repetido]\n",
    "        mas_repetido.append(max_rep)\n",
    "        result = [1,2]\n",
    "        self.assertEqual(mas_repetido, result, 'no es igual')\n",
    "\n",
    "\n",
    "\n",
    "unittest.main(argv=[''], verbosity=2, exit=False)"
   ]
  },
  {
   "attachments": {},
   "cell_type": "markdown",
   "metadata": {},
   "source": [
    "4) Probar una creación incorrecta y visualizar la salida del \"raise\""
   ]
  },
  {
   "cell_type": "code",
   "execution_count": null,
   "metadata": {},
   "outputs": [],
   "source": [
    "import unittest\n",
    "\n",
    "f2 = f.Funciones_7('numero')\n",
    "\n",
    "unittest.main(argv=[''], verbosity=2, exit=False)"
   ]
  },
  {
   "attachments": {},
   "cell_type": "markdown",
   "metadata": {},
   "source": [
    "6) Agregar casos de pruebas para el método verifica_primos() realizando el cambio en la clase, para que devuelva una lista de True o False en función de que el elemento en la posisicón sea o no primo"
   ]
  },
  {
   "cell_type": "code",
   "execution_count": null,
   "metadata": {},
   "outputs": [],
   "source": [
    "class Test_probando_primos (unittest.TestCase):\n",
    "\n",
    "    def test_verifica_primos(self):\n",
    "        lis = [1,2,3,4,5,6,7]\n",
    "        f1 = f.Funciones_7(lis)\n",
    "        primos = f1.es_primo()\n",
    "        primos_esperado = [True,False,True,False,False]\n",
    "        self.assertEqual(primos, primos_esperado)\n",
    "\n",
    "unittest.main(argv=[''], verbosity=2, exit=False)"
   ]
  },
  {
   "attachments": {},
   "cell_type": "markdown",
   "metadata": {},
   "source": [
    "7) Agregar casos de pruebas para el método conversion_grados()"
   ]
  },
  {
   "cell_type": "code",
   "execution_count": null,
   "metadata": {},
   "outputs": [],
   "source": [
    "class Test_probando_grados(unittest.TestCase):\n",
    "\n",
    "    def test_verifica_grados(self):\n",
    "        lis = [1,2,33,4,14]\n",
    "        f1 = f.Funciones_7(lis)\n",
    "        grados = f1.convert_grados('celsius','farenheit')\n",
    "        grados_esperado = [32,45,33,12,11]\n",
    "        self.assertEqual(grados, grados_esperado)\n",
    "\n",
    "    unittest.main(argv=[''], verbosity=2 , exit=False)"
   ]
  },
  {
   "attachments": {},
   "cell_type": "markdown",
   "metadata": {},
   "source": [
    "8) Agregar casos de pruebas para el método factorial()"
   ]
  },
  {
   "cell_type": "code",
   "execution_count": 1,
   "metadata": {},
   "outputs": [
    {
     "ename": "NameError",
     "evalue": "name 'unittest' is not defined",
     "output_type": "error",
     "traceback": [
      "\u001b[0;31m---------------------------------------------------------------------------\u001b[0m",
      "\u001b[0;31mNameError\u001b[0m                                 Traceback (most recent call last)",
      "Cell \u001b[0;32mIn[1], line 1\u001b[0m\n\u001b[0;32m----> 1\u001b[0m \u001b[38;5;28;01mclass\u001b[39;00m \u001b[38;5;21;01mTest_probando_fact\u001b[39;00m(\u001b[43munittest\u001b[49m\u001b[38;5;241m.\u001b[39mTestCase):\n\u001b[1;32m      3\u001b[0m     \u001b[38;5;28;01mdef\u001b[39;00m \u001b[38;5;21mtest_verifica_fafct\u001b[39m(\u001b[38;5;28mself\u001b[39m):\n\u001b[1;32m      4\u001b[0m         lis \u001b[38;5;241m=\u001b[39m [\u001b[38;5;241m1\u001b[39m,\u001b[38;5;241m2\u001b[39m,\u001b[38;5;241m33\u001b[39m,\u001b[38;5;241m4\u001b[39m,\u001b[38;5;241m14\u001b[39m]\n",
      "\u001b[0;31mNameError\u001b[0m: name 'unittest' is not defined"
     ]
    }
   ],
   "source": [
    "import unittest\n",
    "class Test_probando_fact(unittest.TestCase):\n",
    "\n",
    "    def test_verifica_fafct(self):\n",
    "        lis = [1,2,33,4,14]\n",
    "        f1 = f.Funciones_7(lis)\n",
    "        num_fact = f1.num_fact()\n",
    "        fact_esperado = [32,45,33,12,11]\n",
    "        self.assertEqual(num_fact, fact_esperado)\n",
    "\n",
    "    unittest.main(argv=[''], verbosity=2 , exit=False)"
   ]
  }
 ],
 "metadata": {
  "interpreter": {
   "hash": "c85384e4cb51c8b72350f3a8712cc8351fdc3955e32a27f9b60c6242ab125f01"
  },
  "kernelspec": {
   "display_name": "Python 3 (ipykernel)",
   "language": "python",
   "name": "python3"
  },
  "language_info": {
   "codemirror_mode": {
    "name": "ipython",
    "version": 3
   },
   "file_extension": ".py",
   "mimetype": "text/x-python",
   "name": "python",
   "nbconvert_exporter": "python",
   "pygments_lexer": "ipython3",
   "version": "3.9.6"
  }
 },
 "nbformat": 4,
 "nbformat_minor": 4
}
