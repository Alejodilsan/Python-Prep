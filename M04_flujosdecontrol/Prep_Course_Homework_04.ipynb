{
 "cells": [
  {
   "attachments": {},
   "cell_type": "markdown",
   "metadata": {},
   "source": [
    "## Flujos de Control"
   ]
  },
  {
   "attachments": {},
   "cell_type": "markdown",
   "metadata": {},
   "source": [
    "1) Crear una variable que contenga un elemento del conjunto de números enteros y luego imprimir por pantalla si es mayor o menor a cero"
   ]
  },
  {
   "cell_type": "code",
   "execution_count": null,
   "metadata": {},
   "outputs": [],
   "source": [
    "Variable = 3\n",
    "\n",
    "if Variable > 0:\n",
    "    print(f'{Variable}Es mayor que 0')\n",
    "elif Variable < 0:\n",
    "    print(f'{Variable}Es menor que 0')\n",
    "else :\n",
    "    print(f'{Variable}Es igual que 0')"
   ]
  },
  {
   "attachments": {},
   "cell_type": "markdown",
   "metadata": {},
   "source": [
    "2) Crear dos variables y un condicional que informe si son del mismo tipo de dato"
   ]
  },
  {
   "cell_type": "code",
   "execution_count": null,
   "metadata": {},
   "outputs": [],
   "source": [
    "a = 4\n",
    "b = 2.3\n",
    "\n",
    "if type(a) == type(b):\n",
    "    print('son el mismo tipo de datos')\n",
    "else:\n",
    "    print('no son el mismo tipo de datos')"
   ]
  },
  {
   "attachments": {},
   "cell_type": "markdown",
   "metadata": {},
   "source": [
    "3) Para los valores enteros del 1 al 20, imprimir por pantalla si es par o impar"
   ]
  },
  {
   "cell_type": "code",
   "execution_count": null,
   "metadata": {},
   "outputs": [],
   "source": [
    "for n in range(1,21):\n",
    "    if n % 2 == 0:\n",
    "        print(f'{n}','' ,'es par')\n",
    "    else:\n",
    "        print(f'{n}', '','es impar')"
   ]
  },
  {
   "attachments": {},
   "cell_type": "markdown",
   "metadata": {},
   "source": [
    "4) En un ciclo for mostrar para los valores entre 0 y 5 el resultado de elevarlo a la potencia igual a 3"
   ]
  },
  {
   "cell_type": "code",
   "execution_count": null,
   "metadata": {},
   "outputs": [],
   "source": [
    "for n in range(0,6):\n",
    "    print('El valor', str(n), 'elevado a la 3 es ', str(n**3))"
   ]
  },
  {
   "attachments": {},
   "cell_type": "markdown",
   "metadata": {},
   "source": [
    "5) Crear una variable que contenga un número entero y realizar un ciclo for la misma cantidad de ciclos"
   ]
  },
  {
   "cell_type": "code",
   "execution_count": null,
   "metadata": {},
   "outputs": [],
   "source": [
    "for n in range(0,numero):\n",
    "    print(n)"
   ]
  },
  {
   "attachments": {},
   "cell_type": "markdown",
   "metadata": {},
   "source": [
    "6) Utilizar un ciclo while para realizar el factorial de un número guardado en una variable, sólo si la variable contiene un número entero mayor a 0"
   ]
  },
  {
   "cell_type": "code",
   "execution_count": null,
   "metadata": {},
   "outputs": [],
   "source": [
    "if Variable == int(Variable):\n",
    "    if (Variable > 0):\n",
    "        factorial = Variable\n",
    "        while (Variable > 2):\n",
    "            Variable -=  1\n",
    "            factorial = factorial * Variable\n",
    "        print('el factorial es', factorial)\n",
    "    else:\n",
    "        print('el numero es menor que cero')\n",
    "else:\n",
    "    print('el numero no es entero')"
   ]
  },
  {
   "attachments": {},
   "cell_type": "markdown",
   "metadata": {},
   "source": [
    "7) Crear un ciclo for dentro de un ciclo while"
   ]
  },
  {
   "cell_type": "code",
   "execution_count": null,
   "metadata": {},
   "outputs": [],
   "source": [
    "i = 0 \n",
    "\n",
    "while (numero < 5):\n",
    "    numero += 1\n",
    "    for i in range(0,numero):\n",
    "        print('el', 'for', i)\n",
    "        print('el', 'while', numero)\n",
    "print('fin')"
   ]
  },
  {
   "attachments": {},
   "cell_type": "markdown",
   "metadata": {},
   "source": [
    "8) Crear un ciclo while dentro de un ciclo for"
   ]
  },
  {
   "cell_type": "code",
   "execution_count": null,
   "metadata": {},
   "outputs": [],
   "source": [
    "n = 5\n",
    "\n",
    "for i in range(1,n):\n",
    "    while (i < 5):\n",
    "        i += 1\n",
    "        print('for', i)\n",
    "        print('while', n)"
   ]
  },
  {
   "attachments": {},
   "cell_type": "markdown",
   "metadata": {},
   "source": [
    "9) Imprimir los números primos existentes entre 0 y 30"
   ]
  },
  {
   "cell_type": "code",
   "execution_count": null,
   "metadata": {},
   "outputs": [],
   "source": [
    "Rango = 30 \n",
    "numero = 0\n",
    "primo = True\n",
    "\n",
    "while numero < Rango:\n",
    "    for prim in range(2,numero):\n",
    "        if numero % prim == 0:\n",
    "            primo = False\n",
    "        \n",
    "    if (primo):\n",
    "        print(numero)\n",
    "    else:\n",
    "        primo = True\n",
    "        \n",
    "    numero += 1"
   ]
  },
  {
   "attachments": {},
   "cell_type": "markdown",
   "metadata": {},
   "source": [
    "10) ¿Se puede mejorar el proceso del punto 9? Utilizar las sentencias break y/ó continue para tal fin"
   ]
  },
  {
   "cell_type": "code",
   "execution_count": null,
   "metadata": {},
   "outputs": [],
   "source": [
    "Rango = 30 \n",
    "numero = 0\n",
    "primo = True\n",
    "\n",
    "while numero < Rango:\n",
    "    for prim in range(2,numero):\n",
    "        if numero % prim == 0:\n",
    "            primo = False\n",
    "            break\n",
    "    if (primo):\n",
    "        print(numero)\n",
    "    else:\n",
    "        primo = True\n",
    "        \n",
    "    numero += 1"
   ]
  },
  {
   "attachments": {},
   "cell_type": "markdown",
   "metadata": {},
   "source": [
    "11) En los puntos 9 y 10, se diseño un código que encuentra números primos y además se lo optimizó. ¿Es posible saber en qué medida se optimizó?"
   ]
  },
  {
   "cell_type": "code",
   "execution_count": 1,
   "metadata": {},
   "outputs": [
    {
     "name": "stdout",
     "output_type": "stream",
     "text": [
      "0\n",
      "1\n",
      "2\n",
      "3\n",
      "5\n",
      "7\n",
      "11\n",
      "13\n",
      "17\n",
      "19\n",
      "23\n",
      "29\n",
      "el numero de ciclos break son 134\n"
     ]
    }
   ],
   "source": [
    "Rango = 30 \n",
    "numero = 0\n",
    "primo = True\n",
    "ciclos_break = 0\n",
    "while numero < Rango:\n",
    "    for prim in range(2,numero):\n",
    "        ciclos_break += 1\n",
    "        if numero % prim == 0:\n",
    "            primo = False\n",
    "            break\n",
    "    if (primo):\n",
    "        print(numero)\n",
    "    else:\n",
    "        primo = True\n",
    "        \n",
    "    numero += 1\n",
    "print(f'el numero de ciclos break son {ciclos_break}')"
   ]
  },
  {
   "attachments": {},
   "cell_type": "markdown",
   "metadata": {},
   "source": [
    "12) Si la cantidad de números que se evalúa es mayor a treinta, esa optimización crece?"
   ]
  },
  {
   "cell_type": "code",
   "execution_count": null,
   "metadata": {},
   "outputs": [],
   "source": [
    "Rango = 30 \n",
    "numero = 0\n",
    "primo = True\n",
    "ciclos_break = 0\n",
    "ciclos_sin_break = 0\n",
    "while numero < Rango:\n",
    "    for prim in range(2,numero):\n",
    "        ciclos_break += 1\n",
    "        if numero % prim == 0:\n",
    "            primo = False\n",
    "            break\n",
    "    if (primo):\n",
    "        ciclos_sin_break += 1\n",
    "        print(numero)\n",
    "    else:\n",
    "        primo = True\n",
    "        \n",
    "    numero += 1\n",
    "print(f'el numero de ciclos break son {ciclos_break}')\n",
    "print(f'optimizacion de: ',   {(ciclos_break / ciclos_sin_break)* 100 }, '%')"
   ]
  },
  {
   "attachments": {},
   "cell_type": "markdown",
   "metadata": {},
   "source": [
    "13) Aplicando continue, armar un ciclo while que solo imprima los valores divisibles por 12, dentro del rango de números de 100 a 300"
   ]
  },
  {
   "cell_type": "code",
   "execution_count": null,
   "metadata": {},
   "outputs": [],
   "source": []
  },
  {
   "attachments": {},
   "cell_type": "markdown",
   "metadata": {},
   "source": [
    "14) Utilizar la función **input()** que permite hacer ingresos por teclado, para encontrar números primos y dar la opción al usario de buscar el siguiente"
   ]
  },
  {
   "cell_type": "code",
   "execution_count": null,
   "metadata": {},
   "outputs": [],
   "source": []
  },
  {
   "attachments": {},
   "cell_type": "markdown",
   "metadata": {},
   "source": [
    "15) Crear un ciclo while que encuentre dentro del rango de 100 a 300 el primer número divisible por 3 y además múltiplo de 6"
   ]
  },
  {
   "cell_type": "code",
   "execution_count": null,
   "metadata": {},
   "outputs": [],
   "source": []
  }
 ],
 "metadata": {
  "interpreter": {
   "hash": "c85384e4cb51c8b72350f3a8712cc8351fdc3955e32a27f9b60c6242ab125f01"
  },
  "kernelspec": {
   "display_name": "Python 3 (ipykernel)",
   "language": "python",
   "name": "python3"
  },
  "language_info": {
   "codemirror_mode": {
    "name": "ipython",
    "version": 3
   },
   "file_extension": ".py",
   "mimetype": "text/x-python",
   "name": "python",
   "nbconvert_exporter": "python",
   "pygments_lexer": "ipython3",
   "version": "3.12.3"
  }
 },
 "nbformat": 4,
 "nbformat_minor": 4
}
