{
 "cells": [
  {
   "attachments": {},
   "cell_type": "markdown",
   "metadata": {},
   "source": [
    "## Funciones"
   ]
  },
  {
   "attachments": {},
   "cell_type": "markdown",
   "metadata": {},
   "source": [
    "1) Crear una función que reciba un número como parámetro y devuelva True si es primo y False si no lo es"
   ]
  },
  {
   "cell_type": "code",
   "execution_count": null,
   "metadata": {},
   "outputs": [],
   "source": [
    "def es_primo(numero):\n",
    "\n",
    "    primo = True\n",
    "    for n in range(2,numero):\n",
    "        if numero % n == 0:\n",
    "            primo = False\n",
    "            break\n",
    "    return primo\n",
    "\n",
    "es_primo(6)"
   ]
  },
  {
   "attachments": {},
   "cell_type": "markdown",
   "metadata": {},
   "source": [
    "2) Utilizando la función del punto 1, realizar otra función que reciba de parámetro una lista de números y devuelva sólo aquellos que son primos en otra lista"
   ]
  },
  {
   "cell_type": "code",
   "execution_count": null,
   "metadata": {},
   "outputs": [],
   "source": [
    "def lista_de_numero(listacomoleta):\n",
    "    lista_primos = []\n",
    "    for i in listacomoleta:\n",
    "        if es_primo(int(i)):\n",
    "            lista_primos.append(i)\n",
    "    return lista_primos\n",
    "\n",
    "listacomoleta = [1,2,3,4,5,6,7,8,9,10,11.12,13,14,15,16,17,18,19,20,21,22,23,24,25,26]\n",
    "\n",
    "lista_de_numero(listacomoleta)"
   ]
  },
  {
   "attachments": {},
   "cell_type": "markdown",
   "metadata": {},
   "source": [
    "3) Crear una función que al recibir una lista de números, devuelva el que más se repite y cuántas veces lo hace. Si hay más de un \"más repetido\", que devuelva cualquiera"
   ]
  },
  {
   "cell_type": "code",
   "execution_count": null,
   "metadata": {},
   "outputs": [],
   "source": [
    "def cuenta_de_numeros_repetidos(lista):\n",
    "    conteo_numeros = {}\n",
    "    for num in lista:\n",
    "        if num in conteo_numeros:\n",
    "            conteo_numeros[num] +=1\n",
    "        else:\n",
    "            conteo_numeros[num] = 1\n",
    "    mas_reptido = ''\n",
    "    max_rep = 0\n",
    "\n",
    "    for num, repeticiones in conteo_numeros.items():\n",
    "        if repeticiones > max_rep:\n",
    "            mas_reptido = num\n",
    "            max_rep = repeticiones\n",
    "    return mas_reptido, max_rep\n",
    "\n",
    "lista_num = [1,1,5,6,8,10,22,5,6,4,11,9,5]\n",
    "conteo = cuenta_de_numeros_repetidos(lista_num)\n",
    "print('el numero mas repetido es ', conteo[0], 'y se repite ', conteo[1], 'veces')"
   ]
  },
  {
   "attachments": {},
   "cell_type": "markdown",
   "metadata": {},
   "source": [
    "4) A la función del punto 3, agregar un parámetro más, que permita elegir si se requiere el menor o el mayor de los mas repetidos."
   ]
  },
  {
   "cell_type": "code",
   "execution_count": null,
   "metadata": {},
   "outputs": [],
   "source": [
    "def cuenta_de_numeros_repetidos(lista, mayor = True):\n",
    "    conteo_numeros = {}\n",
    "    for num in lista:\n",
    "        if num in conteo_numeros:\n",
    "            conteo_numeros[num] +=1\n",
    "        else:\n",
    "            conteo_numeros[num] = 1\n",
    "    mas_reptido = ''\n",
    "    max_rep = 0\n",
    "\n",
    "    for num, repeticiones in conteo_numeros.items():\n",
    "        if repeticiones > max_rep:\n",
    "            mas_reptido = num\n",
    "            max_rep = repeticiones\n",
    "        elif repeticiones == max_rep:\n",
    "            if mayor:\n",
    "                if num > mas_repetido:\n",
    "                    mas_repetido = num\n",
    "            else:\n",
    "                if num < mas_repetido:\n",
    "                    mas_repetido = num\n",
    "\n",
    "    return mas_reptido, max_rep\n",
    "\n",
    "lista_num = [1,1,5,6,8,10,22,5,6,4,11,9,5,1,1,1,2]\n",
    "conteo = cuenta_de_numeros_repetidos(lista_num, True)\n",
    "print('el numero mas repetido es ', conteo[0], 'y se repite ', conteo[1], 'veces')\n",
    "conteo = cuenta_de_numeros_repetidos(lista_num, False)\n",
    "print('el numero menor mas repetido es ', conteo[0], 'y se repite ', conteo[1], 'veces')"
   ]
  },
  {
   "attachments": {},
   "cell_type": "markdown",
   "metadata": {},
   "source": [
    "5) Crear una función que convierta entre grados Celsius, Farenheit y Kelvin<br>\n",
    "Fórmula 1\t: (°C × 9/5) + 32 = °F<br>\n",
    "Fórmula 2\t: °C + 273.15 = °K<br>\n",
    "Debe recibir 3 parámetros: el valor, la medida de orígen y la medida de destino\n"
   ]
  },
  {
   "cell_type": "code",
   "execution_count": null,
   "metadata": {},
   "outputs": [],
   "source": [
    "def convert_grados (unidad, grados_origen , grados_final):\n",
    "    if grados_origen == 'celsius':\n",
    "        if grados_final == 'celsius':\n",
    "            grados_convert = unidad\n",
    "        elif grados_final == 'farenheit':\n",
    "            grados_convert = (unidad * 9/5) + 32\n",
    "        elif grados_final == 'kelvin':\n",
    "            grados_convert == (unidad + 273,15)\n",
    "        else:\n",
    "            print( 'parametro incorrecto')\n",
    "    elif grados_origen == 'farenheit':\n",
    "        if grados_final == 'farenheit':\n",
    "            grados_convert = unidad\n",
    "        elif grados_final == 'celsius':\n",
    "            grados_convert = (unidad - 32 ) * 5/9\n",
    "        elif grados_final == 'kelvin':\n",
    "            grados_convert == (unidad -32 )* 5/9 + 273,15\n",
    "        else:\n",
    "            print( 'parametro incorrecto')\n",
    "    elif grados_origen == 'kelvin':\n",
    "        if grados_final == 'kelvin':\n",
    "            grados_convert = unidad\n",
    "        elif grados_final == 'celsius':\n",
    "            grados_convert = (unidad - 273,15 ) \n",
    "        elif grados_final == 'farenheit':\n",
    "            grados_convert == (unidad - 273,15) * 9/5 +32\n",
    "        else:\n",
    "            print( 'parametro incorrecto')\n",
    "    else:\n",
    "        print('ingrese variable correcta ')\n",
    "\n",
    "    return grados_convert\n",
    "\n",
    "\n",
    "convertidor_caf = convert_grados(100, 'celsius', 'farenheit')\n",
    "\n",
    "print ('Celsius a Farenheit es : ', convertidor_caf)"
   ]
  },
  {
   "attachments": {},
   "cell_type": "markdown",
   "metadata": {},
   "source": [
    "6) Iterando una lista con los tres valores posibles de temperatura que recibe la función del punto 5, hacer un print para cada combinación de los mismos:"
   ]
  },
  {
   "cell_type": "code",
   "execution_count": null,
   "metadata": {},
   "outputs": [],
   "source": [
    "def convert_grados (unidad, grados_origen , grados_final):\n",
    "    if grados_origen == 'celsius':\n",
    "        if grados_final == 'celsius':\n",
    "            grados_convert = unidad\n",
    "        elif grados_final == 'farenheit':\n",
    "            grados_convert = (unidad * 9/5) + 32\n",
    "        elif grados_final == 'kelvin':\n",
    "            grados_convert = unidad + 273.15\n",
    "        else:\n",
    "            print( 'parametro incorrecto')\n",
    "    elif grados_origen == 'farenheit':\n",
    "        if grados_final == 'farenheit':\n",
    "            grados_convert = unidad\n",
    "        elif grados_final == 'celsius':\n",
    "            grados_convert = (unidad - 32 ) * 5/9\n",
    "        elif grados_final == 'kelvin':\n",
    "            grados_convert = ((unidad -32 )* 5/9) + 273.15\n",
    "        else:\n",
    "            print( 'parametro incorrecto')\n",
    "    elif grados_origen == 'kelvin':\n",
    "        if grados_final == 'kelvin':\n",
    "            grados_convert = unidad\n",
    "        elif grados_final == 'celsius':\n",
    "            grados_convert = (unidad - 273.15 ) \n",
    "        elif grados_final == 'farenheit':\n",
    "            grados_convert = ((unidad - 273.15) * 9/5) +32\n",
    "        else:\n",
    "            print( 'parametro incorrecto')\n",
    "    else:\n",
    "        print('ingrese variable correcta ')\n",
    "\n",
    "    return grados_convert\n",
    "\n",
    "unidades_tem = ['celsius', 'farenheit','kelvin']\n",
    "\n",
    "for i  in range(0,3):\n",
    "    for j in range(0,3):\n",
    "        #print(i, j)\n",
    "        print('por cada grado de ', unidades_tem[i], 'equivale a ', unidades_tem[j], convert_grados(1,unidades_tem[i], unidades_tem[j]))"
   ]
  },
  {
   "attachments": {},
   "cell_type": "markdown",
   "metadata": {},
   "source": [
    "7) Armar una función que devuelva el factorial de un número. Tener en cuenta que el usuario puede equivocarse y enviar de parámetro un número no entero o negativo"
   ]
  },
  {
   "cell_type": "code",
   "execution_count": null,
   "metadata": {},
   "outputs": [],
   "source": [
    "def num_fact(numero):\n",
    "    if (type(numero) != int):\n",
    "        return 'ingresa un numero entero'\n",
    "    if (numero < 0):\n",
    "        return 'ingresa un numero positivo'\n",
    "    if (numero > 1):\n",
    "        numero = numero * num_fact(numero - 1)\n",
    "    return numero\n",
    "\n",
    "\n",
    "print(num_fact(3))\n",
    "print(num_fact(-2))\n",
    "print(num_fact(1.2))\n",
    "print(num_fact(23))\n",
    "print(num_fact('d'))"
   ]
  }
 ],
 "metadata": {
  "interpreter": {
   "hash": "c85384e4cb51c8b72350f3a8712cc8351fdc3955e32a27f9b60c6242ab125f01"
  },
  "kernelspec": {
   "display_name": "Python 3 (ipykernel)",
   "language": "python",
   "name": "python3"
  },
  "language_info": {
   "codemirror_mode": {
    "name": "ipython",
    "version": 3
   },
   "file_extension": ".py",
   "mimetype": "text/x-python",
   "name": "python",
   "nbconvert_exporter": "python",
   "pygments_lexer": "ipython3",
   "version": "3.9.7"
  }
 },
 "nbformat": 4,
 "nbformat_minor": 4
}
